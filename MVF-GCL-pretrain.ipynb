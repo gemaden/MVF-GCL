{
 "cells": [
  {
   "cell_type": "code",
   "execution_count": 1,
   "metadata": {},
   "outputs": [],
   "source": [
    "import sys\n",
    "import torch\n",
    "import torch.nn as nn\n",
    "import torch.nn.functional as F\n",
    "from torch.nn.parameter import Parameter\n",
    "from torch.autograd import Variable\n",
    "import torch.optim as optim\n",
    "import numpy as np\n",
    "import os\n",
    "import scipy.sparse as sp\n",
    "from time import time\n",
    "import math\n",
    "import matplotlib.pyplot as plt\n",
    "from sklearn.metrics import precision_recall_curve\n",
    "from sklearn.metrics import average_precision_score\n",
    "from sklearn.metrics import f1_score,accuracy_score,precision_score,recall_score,multilabel_confusion_matrix,roc_curve,roc_auc_score\n",
    "# from gin import Encoder, GAT\n",
    "import os.path as osp\n",
    "from tqdm import tqdm\n",
    "from torch_geometric.nn import MessagePassing, global_add_pool, global_sort_pool, GCNConv, GATConv\n",
    "from torch_geometric.data import Dataset, InMemoryDataset, Data\n",
    "from torch_geometric.loader import DataLoader\n",
    "from torch_geometric.utils import to_dense_adj\n",
    "from tqdm import tqdm\n",
    "import numpy as np\n",
    "sys.path.append('../')\n",
    "sys.path.append('../../')\n",
    "sys.path.append('./')\n",
    "from pytorchtools import EarlyStopping\n",
    "import matplotlib.pyplot as plt\n",
    "from tqdm import tqdm\n",
    "import random\n",
    "from RGCN import res_GCN, MV_MGCL, cal_GCL, cal_GCL2"
   ]
  },
  {
   "cell_type": "code",
   "execution_count": 2,
   "metadata": {},
   "outputs": [],
   "source": [
    "seed = 3407  #3701, 3407\n",
    "# 生成随机数，以便固定后续随机数，方便复现代码\n",
    "random.seed(seed)\n",
    "# 没有使用GPU的时候设置的固定生成的随机数\n",
    "np.random.seed(seed)\n",
    "# 为CPU设置种子用于生成随机数，以使得结果是确定的\n",
    "torch.manual_seed(seed)\n",
    "# torch.cuda.manual_seed()为当前GPU设置随机种子\n",
    "torch.cuda.manual_seed(seed)"
   ]
  },
  {
   "cell_type": "code",
   "execution_count": 3,
   "metadata": {},
   "outputs": [],
   "source": [
    "# a = torch.tensor([1,0,0,1])\n",
    "# b = torch.tensor([1,0,0,1])\n",
    "# a == b"
   ]
  },
  {
   "cell_type": "code",
   "execution_count": 4,
   "metadata": {},
   "outputs": [],
   "source": [
    "# Z = torch.rand(10, 4)\n",
    "# B = torch.rand(10, 4)\n",
    "\n",
    "# Z_norm = torch.linalg.norm(Z, dim=1, keepdim=True)  # Size (n, 1).\n",
    "# B_norm = torch.linalg.norm(B, dim=1, keepdim=True)  # Size (1, b).\n",
    "\n",
    "# # Distance matrix of size (b, n).\n",
    "# cosine_similarity = ((Z.T @ B) / (Z_norm.T @ B_norm)).T\n",
    "# cosine_distance = 1 - cosine_similarity"
   ]
  },
  {
   "cell_type": "code",
   "execution_count": 5,
   "metadata": {},
   "outputs": [],
   "source": [
    "# F.cosine_similarity(Z, B)"
   ]
  },
  {
   "cell_type": "code",
   "execution_count": 6,
   "metadata": {},
   "outputs": [],
   "source": [
    "#模型扰动\n",
    "# def gen_ran_output(data, model, vice_model, eta):\n",
    "#     for (adv_name,adv_param), (name,param) in zip(vice_model.named_parameters(), model.named_parameters()):\n",
    "#         if name.split('.')[0] == 'proj_head': #映射层参数不变化。\n",
    "#             adv_param.data = param.data\n",
    "#         else:\n",
    "#             adv_param.data = param.data + eta * torch.normal(0,torch.ones_like(param.data)*param.data.std()).to(device)   #GNN模型参数扰动，Gasussio       \n",
    "#     z2 = vice_model(data.x, data.edge_index, data.edge_attr, data.batch, data.num_graphs)\n",
    "#     return z2"
   ]
  },
  {
   "cell_type": "code",
   "execution_count": 7,
   "metadata": {},
   "outputs": [],
   "source": [
    "# a = torch.tensor([[1.2,2.3],[3,4],[5,6]])\n",
    "# b = torch.tensor([[1.2,2.3],[3,4],[5,6]])\n",
    "# a = torch.einsum('ik,jk->ij', a, b)\n",
    "# b = torch.einsum('i,j->ij', b.norm(dim=1), a.norm(dim=1))\n",
    "# a = a/b\n",
    "# b = a[range(3),range(3)]\n",
    "# # lo = b / a.sum(dim=1)\n",
    "# # lo\n",
    "# a,b,a.sum(dim=1),a.sum()\n",
    "# [item for item in a]"
   ]
  },
  {
   "cell_type": "code",
   "execution_count": 8,
   "metadata": {},
   "outputs": [],
   "source": [
    "# t = torch.tensor([1,2,3,4,5,6])\n",
    "# t[range(3)]"
   ]
  },
  {
   "cell_type": "code",
   "execution_count": 9,
   "metadata": {},
   "outputs": [],
   "source": [
    "#dataset generator\n",
    "class SG(InMemoryDataset):\n",
    "    global d_type\n",
    "    def __init__(self, root, transform=None, pre_transform=None,pre_filter=None):\n",
    "        super().__init__(root, transform=None, pre_transform=None, pre_filter=None)\n",
    "        self.data, self.slices = torch.load(self.processed_paths[0])\n",
    "\n",
    "        \n",
    "    @property\n",
    "    def raw_dir(self):\n",
    "        return osp.join(self.root, '/raw/'+d_type)\n",
    "    \n",
    "    @property\n",
    "    def raw_file_names(self):\n",
    "        return os.listdir(self.root+'/raw/'+d_type)\n",
    "\n",
    "    @property\n",
    "    def processed_file_names(self):\n",
    "#         return ['pre-train.pt']\n",
    "        return [d_type+'.pt']\n",
    "\n",
    "    def process(self):\n",
    "        data_list = []\n",
    "        for raw_path in tqdm(self.raw_paths):\n",
    "            edges = []\n",
    "            edge_features = []\n",
    "            nodes = []\n",
    "            node_features = []\n",
    "            with open(self.root+raw_path,'r') as f:\n",
    "                row = f.readline().strip().split()\n",
    "                nodes_num,label = [int(w) for w in row]\n",
    "                for line,j in zip(f.readlines(),range(nodes_num)):\n",
    "                    row = line.strip().split()\n",
    "                    row ,attr = [int(w) for w in row[1:int(row[0])+1]],np.array([float(w) for w in row[int(row[0])+1:]])\n",
    "                    if attr is not None:\n",
    "                        node_features.append(attr)\n",
    "                    if row is not None:\n",
    "                        for k in row:\n",
    "                            edge = [j,k]\n",
    "                            edges.append(edge)\n",
    "            for edge in edges:\n",
    "                edge_features.append((node_features[edge[0]]+node_features[edge[1]])/2)\n",
    "            num_edges = len(edges)\n",
    "            new_edges = torch.zeros((2,num_edges),dtype=torch.long)\n",
    "            for edge,index in zip(edges,range(num_edges)):\n",
    "                new_edges[0,index] = edge[0]\n",
    "                new_edges[1,index] = edge[1]\n",
    "            node_features = torch.tensor(node_features,dtype=torch.float)\n",
    "            nodes = torch.tensor(nodes,dtype=torch.long)\n",
    "            edge_features = torch.tensor(edge_features,dtype=torch.float)\n",
    "            data = Data(x=node_features,edge_index=new_edges,edge_attr=edge_features)\n",
    "            data_list.append(data)\n",
    "        if self.pre_filter is not None:\n",
    "            data_list = [data for data in data_list if self.pre_filter(data)]\n",
    "\n",
    "        if self.pre_transform is not None:\n",
    "            data_list = [self.pre_transform(data) for data in data_list]\n",
    "\n",
    "        data, slices = self.collate(data_list)\n",
    "        torch.save((data, slices), self.processed_paths[0])"
   ]
  },
  {
   "cell_type": "code",
   "execution_count": 10,
   "metadata": {},
   "outputs": [],
   "source": [
    "#init\n",
    "input_dim = 100\n",
    "hidden_dim = 64\n",
    "output_dim = 32\n",
    "num_gc_layers = 10\n",
    "k = 100\n",
    "lr = 0.01\n",
    "device = 'cuda:0' if torch.cuda.is_available() else 'cpu'\n",
    "# model = symmetric_sim(input_dim, hidden_dim, num_gc_layers, output_dim, k).to(device)\n",
    "model = MV_MGCL(input_dim, hidden_dim, num_gc_layers, output_dim, k).to(device)\n",
    "optimizer = torch.optim.Adam(model.parameters(), lr=lr)\n",
    "\n",
    "scheduler = optim.lr_scheduler.CyclicLR(optimizer, base_lr=0.0001, max_lr=0.05 ,cycle_momentum = False)\n",
    "\n",
    "d_type = 'multi-2'\n",
    "dataset = SG('/media/bmw_lab/2eb7452f-ae82-4707-82ed-218aabcd7aaf1/bmw_lab/frankda/CL-Pre_train/dataset/pre-train')\n",
    "dataloader = DataLoader(dataset, batch_size = 64, shuffle = True)\n",
    "early_stopping = EarlyStopping(patience=10, verbose=True, path='./saved_models/pre-train-64-10-(multi2_k100_no_relu_epoch100_rgcn_wo_ln_simplified_projhead_MV_MGCL_cal_GCL2).pt')"
   ]
  },
  {
   "cell_type": "code",
   "execution_count": 11,
   "metadata": {},
   "outputs": [],
   "source": [
    "def train(epochs):\n",
    "    loss_history = []\n",
    "    for epoch in tqdm(range(1, epochs+1)):\n",
    "        loss_all = 0\n",
    "        model.train()\n",
    "        for data in dataloader:\n",
    "            optimizer.zero_grad()\n",
    "            node_num, _ = data.x.size()\n",
    "            data = data.to(device)\n",
    "#             nega = negative_model(data.x, data.edge_index, data.edge_attr, data.batch, data.num_graphs)\n",
    "            # to_dense_adj(edge_index, batch=None, edge_attr=None, max_num_nodes=None)\n",
    "\n",
    "            adj = to_dense_adj(data.edge_index).squeeze()\n",
    "            node_degs = torch.sum(adj, dim = 1) + 1\n",
    "            node_degs = 1/ node_degs\n",
    "            node_degs = torch.diag(node_degs).to(device)     #x, edge_index, edge_attr, batch, num_graphs, graphs, degs, eta, device\n",
    "            rgcn_output, aug_rgcn_output, gat_output, aug_gat_output = model(data.x, data.edge_index, data.edge_attr, data.batch, data.num_graphs, adj, node_degs, eta=1.0, device=device)\n",
    "            \n",
    "            # loss = cal_pos_loss(gcn_output, augument_output, nega)\n",
    "            # loss = model.cal_loss(aug_gcn_output, aug_gat_output, nega_gcn_output, nega_gat_output)\n",
    "            # loss_intra = cal_GCL(rgcn_output, aug_rgcn_output) + cal_GCL(gat_output, aug_gat_output)\n",
    "            # loss_inter = cal_GCL(rgcn_output, gat_output)\n",
    "            loss_intra = cal_GCL2(rgcn_output, aug_rgcn_output) + cal_GCL2(gat_output, aug_gat_output)\n",
    "            loss_inter = cal_GCL2(rgcn_output, gat_output)\n",
    "            # loss = cal_pos_loss2(gcn_output, augument_output, nega_output)\n",
    "            loss = loss_inter + 0.5 * loss_intra\n",
    "            loss_all += loss.cpu().item()\n",
    "            loss.backward()\n",
    "            optimizer.step()\n",
    "#             optimizer_nega.step()\n",
    "            scheduler.step()\n",
    "#             scheduler_nega.step()\n",
    "        loss_epoch = loss_all / len(dataloader)\n",
    "        loss_history.append(loss_epoch)\n",
    "        drawLoss(loss_history)\n",
    "        with open('./results/pre-train.txt','a') as f:\n",
    "            print('Epoch {}, Loss {}, Loss_inter {}, Loss_intra {}'.format(epoch, loss_epoch, loss_inter, loss_intra), file=f)\n",
    "        early_stopping(loss_epoch, model)\n",
    "        if early_stopping.early_stop:\n",
    "#             model.load_state_dict(torch.load('pre-train.pt'))\n",
    "            break;\n",
    "    return loss_history"
   ]
  },
  {
   "cell_type": "code",
   "execution_count": 12,
   "metadata": {},
   "outputs": [],
   "source": [
    "def drawLoss(history):\n",
    "#     plt.xlim([0,10000])\n",
    "    plt.ylim([0,0.5])\n",
    "    plt.plot(history,'b-')"
   ]
  },
  {
   "cell_type": "code",
   "execution_count": 13,
   "metadata": {},
   "outputs": [
    {
     "name": "stderr",
     "output_type": "stream",
     "text": [
      "  0%|          | 0/5 [00:00<?, ?it/s]"
     ]
    },
    {
     "name": "stdout",
     "output_type": "stream",
     "text": [
      "train on  multi-2\n"
     ]
    },
    {
     "name": "stderr",
     "output_type": "stream",
     "text": [
      "/home/bmw_lab/anaconda3/lib/python3.8/site-packages/torch_geometric/deprecation.py:12: UserWarning: 'nn.glob.global_sort_pool' is deprecated, use 'nn.aggr.SortAggr' instead\n",
      "  warnings.warn(out)\n",
      " 20%|██        | 1/5 [01:22<05:29, 82.32s/it]"
     ]
    },
    {
     "name": "stdout",
     "output_type": "stream",
     "text": [
      "Validation loss decreased (inf --> 8.314610).  Saving model ...\n"
     ]
    },
    {
     "name": "stderr",
     "output_type": "stream",
     "text": [
      " 40%|████      | 2/5 [02:41<04:04, 81.38s/it]"
     ]
    },
    {
     "name": "stdout",
     "output_type": "stream",
     "text": [
      "Validation loss decreased (8.314610 --> 8.312651).  Saving model ...\n"
     ]
    },
    {
     "name": "stderr",
     "output_type": "stream",
     "text": [
      " 60%|██████    | 3/5 [04:02<02:42, 81.20s/it]"
     ]
    },
    {
     "name": "stdout",
     "output_type": "stream",
     "text": [
      "Validation loss decreased (8.312651 --> 8.312648).  Saving model ...\n"
     ]
    },
    {
     "name": "stderr",
     "output_type": "stream",
     "text": [
      " 80%|████████  | 4/5 [05:22<01:20, 80.88s/it]"
     ]
    },
    {
     "name": "stdout",
     "output_type": "stream",
     "text": [
      "Validation loss decreased (8.312648 --> 8.312647).  Saving model ...\n"
     ]
    },
    {
     "name": "stderr",
     "output_type": "stream",
     "text": [
      "100%|██████████| 5/5 [06:42<00:00, 80.52s/it]"
     ]
    },
    {
     "name": "stdout",
     "output_type": "stream",
     "text": [
      "Validation loss decreased (8.312647 --> 8.312647).  Saving model ...\n"
     ]
    },
    {
     "name": "stderr",
     "output_type": "stream",
     "text": [
      "\n"
     ]
    },
    {
     "data": {
      "image/png": "[encoded data removed]",
      "text/plain": [
       "<Figure size 432x288 with 1 Axes>"
      ]
     },
     "metadata": {
      "needs_background": "light"
     },
     "output_type": "display_data"
    }
   ],
   "source": [
    "print('train on ',d_type)\n",
    "loss_history = train(5)  "
   ]
  },
  {
   "cell_type": "code",
   "execution_count": 14,
   "metadata": {},
   "outputs": [
    {
     "data": {
      "image/png": "[encoded data removed]",
      "text/plain": [
       "<Figure size 432x288 with 1 Axes>"
      ]
     },
     "metadata": {
      "needs_background": "light"
     },
     "output_type": "display_data"
    }
   ],
   "source": [
    "drawLoss(loss_history)"
   ]
  }
 ],
 "metadata": {
  "interpreter": {
   "hash": "b7c5d2e92ae5a023dcd4c2e97ccc2f57353f7b97bc17310d395b60c853ef50c9"
  },
  "kernelspec": {
   "display_name": "Python 3",
   "language": "python",
   "name": "python3"
  },
  "language_info": {
   "codemirror_mode": {
    "name": "ipython",
    "version": 3
   },
   "file_extension": ".py",
   "mimetype": "text/x-python",
   "name": "python",
   "nbconvert_exporter": "python",
   "pygments_lexer": "ipython3",
   "version": "3.8.3"
  }
 },
 "nbformat": 4,
 "nbformat_minor": 4
}
